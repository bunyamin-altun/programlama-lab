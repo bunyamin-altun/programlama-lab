{
 "cells": [
  {
   "cell_type": "code",
   "execution_count": 16,
   "metadata": {},
   "outputs": [],
   "source": [
    "import random"
   ]
  },
  {
   "cell_type": "code",
   "execution_count": 17,
   "metadata": {},
   "outputs": [
    {
     "data": {
      "text/plain": [
       "0.4960780524168067"
      ]
     },
     "execution_count": 17,
     "metadata": {},
     "output_type": "execute_result"
    }
   ],
   "source": [
    "random.random()"
   ]
  },
  {
   "cell_type": "code",
   "execution_count": 18,
   "metadata": {},
   "outputs": [
    {
     "data": {
      "text/plain": [
       "62"
      ]
     },
     "execution_count": 18,
     "metadata": {},
     "output_type": "execute_result"
    }
   ],
   "source": [
    "s=random.randint(1,100) # randint(min,max)\n",
    "s"
   ]
  },
  {
   "cell_type": "code",
   "execution_count": 19,
   "metadata": {},
   "outputs": [
    {
     "data": {
      "text/plain": [
       "[-5, 3, -1, 4, 4, 4, -5, -1, 1, -2]"
      ]
     },
     "execution_count": 19,
     "metadata": {},
     "output_type": "execute_result"
    }
   ],
   "source": [
    "def get_n_random_numbers(n=10,min_=-5,max_=5):\n",
    "    numbers=[]\n",
    "    for i in range(n):\n",
    "        numbers.append(random.randint(min_,max_))\n",
    "    return numbers\n",
    "get_n_random_numbers()"
   ]
  },
  {
   "cell_type": "code",
   "execution_count": 17,
   "metadata": {},
   "outputs": [
    {
     "data": {
      "text/plain": [
       "[-1, -4, 2, -3, 1, 1, -1, 1, -4, 2, 0, -1, 0, -1, 3]"
      ]
     },
     "execution_count": 17,
     "metadata": {},
     "output_type": "execute_result"
    }
   ],
   "source": [
    "my_list=get_n_random_numbers(15,-4,4)\n",
    "my_list"
   ]
  },
  {
   "cell_type": "code",
   "execution_count": 18,
   "metadata": {},
   "outputs": [
    {
     "data": {
      "text/plain": [
       "[-1, -4, 2, -3, 1, 1, -1, 1, -4, 2, 0, -1, 0, -1, 3]"
      ]
     },
     "execution_count": 18,
     "metadata": {},
     "output_type": "execute_result"
    }
   ],
   "source": [
    "my_list"
   ]
  },
  {
   "cell_type": "code",
   "execution_count": 19,
   "metadata": {},
   "outputs": [
    {
     "data": {
      "text/plain": [
       "[-4, -4, -3, -1, -1, -1, -1, 0, 0, 1, 1, 1, 2, 2, 3]"
      ]
     },
     "execution_count": 19,
     "metadata": {},
     "output_type": "execute_result"
    }
   ],
   "source": [
    "sorted(my_list)"
   ]
  },
  {
   "cell_type": "code",
   "execution_count": 41,
   "metadata": {},
   "outputs": [],
   "source": [
    "def my_frequency_with_dict(list):\n",
    "    frequency_dict={}\n",
    "    for item in list:\n",
    "        if(item in frequency_dict):\n",
    "            frequency_dict[item]=frequency_dict[item]+1\n",
    "        else:\n",
    "            frequency_dict[item]=1\n",
    "    return frequency_dict"
   ]
  },
  {
   "cell_type": "code",
   "execution_count": 23,
   "metadata": {},
   "outputs": [
    {
     "data": {
      "text/plain": [
       "{-1: 4, -4: 2, 2: 2, -3: 1, 1: 3, 0: 2, 3: 1}"
      ]
     },
     "execution_count": 23,
     "metadata": {},
     "output_type": "execute_result"
    }
   ],
   "source": [
    " my_frequency_with_dict(my_list)"
   ]
  },
  {
   "cell_type": "code",
   "execution_count": 77,
   "metadata": {},
   "outputs": [],
   "source": [
    "def my_frequency_with_list_of_tuples(list_1):\n",
    "    frequency_list=[]\n",
    "    for i in range(len(list_1)):\n",
    "        s=False\n",
    "        for j in range(len(frequency_list)):\n",
    "            if (list_1[i]==frequency_list[j][0]):\n",
    "                frequency_list[j][i]=frequency_list[j][i]+1\n",
    "                s=True\n",
    "        if (s==True):\n",
    "            frequency_list.append([list_1[i]],1)\n",
    "    return frequency_list\n",
    "    "
   ]
  },
  {
   "cell_type": "code",
   "execution_count": 80,
   "metadata": {},
   "outputs": [
    {
     "data": {
      "text/plain": [
       "[]"
      ]
     },
     "execution_count": 80,
     "metadata": {},
     "output_type": "execute_result"
    }
   ],
   "source": [
    "my_frequency_with_list_of_tuples(my_list)"
   ]
  },
  {
   "cell_type": "code",
   "execution_count": 53,
   "metadata": {},
   "outputs": [
    {
     "data": {
      "text/plain": [
       "({4: 4, 5: 2, 6: 1, 1: 4, 2: 2, 3: 2}, [])"
      ]
     },
     "execution_count": 53,
     "metadata": {},
     "output_type": "execute_result"
    }
   ],
   "source": [
    "my_list=[4,5,6,4,1,2,4,1,4,5,2,1,3,3,1]\n",
    "result_1=my_frequency_with_dict(my_list)\n",
    "result_2=my_frequency_with_list_of_tuples(my_list)\n",
    "result_1,result_2"
   ]
  },
  {
   "cell_type": "code",
   "execution_count": 58,
   "metadata": {},
   "outputs": [
    {
     "data": {
      "text/plain": [
       "{-1: 2, 1: 2, 2: 1}"
      ]
     },
     "execution_count": 58,
     "metadata": {},
     "output_type": "execute_result"
    }
   ],
   "source": [
    "my_list_1=get_n_random_numbers(5,-2,2)\n",
    "my_hist_d=my_frequency_with_dict(my_list_1)\n",
    "my_hist_d"
   ]
  },
  {
   "cell_type": "code",
   "execution_count": 63,
   "metadata": {},
   "outputs": [
    {
     "data": {
      "text/plain": [
       "[]"
      ]
     },
     "execution_count": 63,
     "metadata": {},
     "output_type": "execute_result"
    }
   ],
   "source": [
    "my_list_1=get_n_random_numbers(5,-2,2)\n",
    "my_hist_1=my_frequency_with_list_of_tuples(my_list_1)\n",
    "my_hist_1"
   ]
  },
  {
   "cell_type": "code",
   "execution_count": 64,
   "metadata": {},
   "outputs": [
    {
     "name": "stdout",
     "output_type": "stream",
     "text": [
      "-1 2\n",
      "1 2\n",
      "2 1\n"
     ]
    },
    {
     "data": {
      "text/plain": [
       "(2, -1)"
      ]
     },
     "execution_count": 64,
     "metadata": {},
     "output_type": "execute_result"
    }
   ],
   "source": [
    "frequency_max=-1\n",
    "mode=-1\n",
    "for key in my_hist_d.keys():\n",
    "    print(key,my_hist_d[key])\n",
    "    if my_hist_d[key]>frequency_max:\n",
    "        frequency_max=my_hist_d[key]\n",
    "        mode=key\n",
    "frequency_max,mode"
   ]
  },
  {
   "cell_type": "code",
   "execution_count": 72,
   "metadata": {},
   "outputs": [],
   "source": [
    "def my_mode_with_dict(my_hist_d):\n",
    "    frequency_max=-1\n",
    "    mode=-1\n",
    "    for key in my_hist_d.keys():\n",
    "    # print(key,my_hist_d[key])\n",
    "        if my_hist_d[key]>frequency_max:\n",
    "            frequency_max=my_hist_d[key]\n",
    "            mode=key\n",
    "    return frequency_max,mode"
   ]
  },
  {
   "cell_type": "code",
   "execution_count": 73,
   "metadata": {},
   "outputs": [
    {
     "data": {
      "text/plain": [
       "(2, -1)"
      ]
     },
     "execution_count": 73,
     "metadata": {},
     "output_type": "execute_result"
    }
   ],
   "source": [
    "my_mode_with_dict(my_hist_d)"
   ]
  },
  {
   "cell_type": "code",
   "execution_count": 74,
   "metadata": {},
   "outputs": [
    {
     "data": {
      "text/plain": [
       "(2, -1)"
      ]
     },
     "execution_count": 74,
     "metadata": {},
     "output_type": "execute_result"
    }
   ],
   "source": [
    "my_list_100=get_n_random_numbers(10,-4,4)\n",
    "my_hist_1=my_frequency_with_dict(my_list_100)\n",
    "my_mode_with_dict(my_hist_1)"
   ]
  },
  {
   "cell_type": "code",
   "execution_count": 75,
   "metadata": {
    "scrolled": true
   },
   "outputs": [
    {
     "data": {
      "text/plain": [
       "[-1, 0, -1, 1, 2, 2, 3, -3, -2, 4]"
      ]
     },
     "execution_count": 75,
     "metadata": {},
     "output_type": "execute_result"
    }
   ],
   "source": [
    "my_list_100"
   ]
  },
  {
   "cell_type": "code",
   "execution_count": 78,
   "metadata": {
    "scrolled": true
   },
   "outputs": [
    {
     "data": {
      "text/plain": [
       "[]"
      ]
     },
     "execution_count": 78,
     "metadata": {},
     "output_type": "execute_result"
    }
   ],
   "source": [
    "my_list_1=get_n_random_numbers(10)\n",
    "my_hist_list=my_frequency_with_list_of_tuples(my_list_1)\n",
    "my_hist_list"
   ]
  },
  {
   "cell_type": "code",
   "execution_count": null,
   "metadata": {},
   "outputs": [],
   "source": [
    "frequency_max=-1\n",
    "mode=-1\n",
    "for item,frequency in my_hist_list:\n",
    "    print(item,frequency)\n",
    "    if frequency>frequency_max:\n",
    "        frequency_max=my_frequency\n",
    "        mode=item\n",
    "frequency_max,mode"
   ]
  },
  {
   "cell_type": "markdown",
   "metadata": {},
   "source": [
    "# linear search on list"
   ]
  },
  {
   "cell_type": "code",
   "execution_count": 91,
   "metadata": {},
   "outputs": [],
   "source": [
    "def my_linear_search(my_list,item_search):\n",
    "    found=(-1,1) # default eğer listede yoksa\n",
    "    for indis in my_list:\n",
    "        if my_list[indis]==item_search:\n",
    "            found=(my_list[indis],indis) # listede bulundu, return bulunan sayı ,,indisi tuple olarak return edilir\n",
    "    return found\n",
    "    "
   ]
  },
  {
   "cell_type": "code",
   "execution_count": 92,
   "metadata": {},
   "outputs": [
    {
     "data": {
      "text/plain": [
       "[4, 5, 6, 4, 1, 2, 4, 1, 4, 5, 2, 1, 3, 3, 1]"
      ]
     },
     "execution_count": 92,
     "metadata": {},
     "output_type": "execute_result"
    }
   ],
   "source": [
    "my_list"
   ]
  },
  {
   "cell_type": "code",
   "execution_count": 94,
   "metadata": {},
   "outputs": [
    {
     "data": {
      "text/plain": [
       "(2, 5)"
      ]
     },
     "execution_count": 94,
     "metadata": {},
     "output_type": "execute_result"
    }
   ],
   "source": [
    "my_linear_search(my_list,2)"
   ]
  },
  {
   "cell_type": "code",
   "execution_count": 105,
   "metadata": {},
   "outputs": [
    {
     "data": {
      "text/plain": [
       "[4,\n",
       " -10,\n",
       " 13,\n",
       " -19,\n",
       " 18,\n",
       " -17,\n",
       " 2,\n",
       " -7,\n",
       " 20,\n",
       " 2,\n",
       " 16,\n",
       " 9,\n",
       " -5,\n",
       " -20,\n",
       " -19,\n",
       " -19,\n",
       " 20,\n",
       " 19,\n",
       " -6,\n",
       " -14]"
      ]
     },
     "execution_count": 105,
     "metadata": {},
     "output_type": "execute_result"
    }
   ],
   "source": [
    "my_list=get_n_random_numbers(20,-20,20)\n",
    "my_list"
   ]
  },
  {
   "cell_type": "code",
   "execution_count": 96,
   "metadata": {},
   "outputs": [
    {
     "data": {
      "text/plain": [
       "(3, -3)"
      ]
     },
     "execution_count": 96,
     "metadata": {},
     "output_type": "execute_result"
    }
   ],
   "source": [
    "my_linear_search(my_list,3)"
   ]
  },
  {
   "cell_type": "markdown",
   "metadata": {},
   "source": [
    "# mean of list"
   ]
  },
  {
   "cell_type": "code",
   "execution_count": 106,
   "metadata": {},
   "outputs": [
    {
     "data": {
      "text/plain": [
       "[4,\n",
       " -10,\n",
       " 13,\n",
       " -19,\n",
       " 18,\n",
       " -17,\n",
       " 2,\n",
       " -7,\n",
       " 20,\n",
       " 2,\n",
       " 16,\n",
       " 9,\n",
       " -5,\n",
       " -20,\n",
       " -19,\n",
       " -19,\n",
       " 20,\n",
       " 19,\n",
       " -6,\n",
       " -14]"
      ]
     },
     "execution_count": 106,
     "metadata": {},
     "output_type": "execute_result"
    }
   ],
   "source": [
    "my_list"
   ]
  },
  {
   "cell_type": "code",
   "execution_count": 107,
   "metadata": {},
   "outputs": [
    {
     "data": {
      "text/plain": [
       "-0.65"
      ]
     },
     "execution_count": 107,
     "metadata": {},
     "output_type": "execute_result"
    }
   ],
   "source": [
    "s,t=0,0\n",
    "for item in my_list:\n",
    "    s+=1\n",
    "    t+=item\n",
    "mean_=t/s\n",
    "mean_"
   ]
  },
  {
   "cell_type": "code",
   "execution_count": 111,
   "metadata": {},
   "outputs": [],
   "source": [
    "def my_mean(my_list):\n",
    "    s,t=0,0\n",
    "    for item in my_list:\n",
    "        s+=1\n",
    "        t+=item\n",
    "    mean_=t/s\n",
    "    return mean_"
   ]
  },
  {
   "cell_type": "code",
   "execution_count": 115,
   "metadata": {
    "scrolled": true
   },
   "outputs": [
    {
     "name": "stdout",
     "output_type": "stream",
     "text": [
      "[1, -4, 4, 1, -4, -1, 4, 1, 2, 0]\n"
     ]
    },
    {
     "data": {
      "text/plain": [
       "0.4"
      ]
     },
     "execution_count": 115,
     "metadata": {},
     "output_type": "execute_result"
    }
   ],
   "source": [
    "my_list=get_n_random_numbers(10,-5,5)\n",
    "print(my_list)\n",
    "my_mean(my_list)"
   ]
  },
  {
   "cell_type": "markdown",
   "metadata": {},
   "source": [
    "# sort the list "
   ]
  },
  {
   "cell_type": "code",
   "execution_count": 116,
   "metadata": {},
   "outputs": [
    {
     "data": {
      "text/plain": [
       "[1, -4, 4, 1, -4, -1, 4, 1, 2, 0]"
      ]
     },
     "execution_count": 116,
     "metadata": {},
     "output_type": "execute_result"
    }
   ],
   "source": [
    "my_list"
   ]
  },
  {
   "cell_type": "code",
   "execution_count": 118,
   "metadata": {},
   "outputs": [
    {
     "name": "stdout",
     "output_type": "stream",
     "text": [
      "[0, 2, 1, 4, -1, -4, 1, 4, -4, 1]\n",
      "[1, -4, 4, 1, -4, -1, 4, 1, 2, 0]\n"
     ]
    }
   ],
   "source": [
    "n=len(my_list)\n",
    "print(my_list)\n",
    "for i in range(n-1,-1,-1):\n",
    "    for j in range(0,i):\n",
    "        #print(\"swap işlemi\")\n",
    "        temp=my_list[j]\n",
    "        my_list[j]=my_list[j+1]\n",
    "        my_list[j+1]=temp\n",
    "print(my_list)"
   ]
  },
  {
   "cell_type": "code",
   "execution_count": 22,
   "metadata": {},
   "outputs": [],
   "source": [
    "def buble_sort(my_list):\n",
    "    n=len(my_list)\n",
    "    print(my_list)\n",
    "    for i in range(n-1,-1,-1):\n",
    "        for j in range(0,i):\n",
    "            #print(\"swap işlemi\")\n",
    "            temp=my_list[j]\n",
    "            my_list[j]=my_list[j+1]\n",
    "            my_list[j+1]=temp\n",
    "    return my_list"
   ]
  },
  {
   "cell_type": "code",
   "execution_count": 123,
   "metadata": {},
   "outputs": [
    {
     "name": "stdout",
     "output_type": "stream",
     "text": [
      "[3, 0, -2, -2]\n"
     ]
    },
    {
     "data": {
      "text/plain": [
       "[-2, -2, 0, 3]"
      ]
     },
     "execution_count": 123,
     "metadata": {},
     "output_type": "execute_result"
    }
   ],
   "source": [
    "my_list=get_n_random_numbers(4,-5,5)\n",
    "#print(my_list)\n",
    "buble_sort(my_list)"
   ]
  },
  {
   "cell_type": "markdown",
   "metadata": {},
   "source": [
    "# binary search on a sorted list"
   ]
  },
  {
   "cell_type": "code",
   "execution_count": 132,
   "metadata": {},
   "outputs": [],
   "source": [
    "def my_binary_search(my_list,item_search):\n",
    "    found=(-1,1)\n",
    "    low=0\n",
    "    high=len(my_list)-1\n",
    "    while low <=high:\n",
    "        mid=(low+high)//2\n",
    "        \n",
    "        \n",
    "        if my_list[mid]==item_search:\n",
    "            return my_list[mid],mid\n",
    "        elif my_list[mid]>item_search:\n",
    "            high=mid-1\n",
    "            \n",
    "    return found"
   ]
  },
  {
   "cell_type": "code",
   "execution_count": null,
   "metadata": {},
   "outputs": [],
   "source": [
    "my_list_1=get_n_random_numbers(10)\n",
    "print(\"liste=\",my_list_1)\n",
    "my_list_2=buble_sort(my_list_1)\n",
    "print(\"sıralı liste=\",my_list_2)\n",
    "my_binary_search(my_list_2,4)"
   ]
  },
  {
   "cell_type": "markdown",
   "metadata": {},
   "source": [
    "# median of a list"
   ]
  },
  {
   "cell_type": "code",
   "execution_count": null,
   "metadata": {},
   "outputs": [],
   "source": [
    "size=input(\"dizi boyutunu giriniz:\")\n",
    "#size=int(size) # convert str to int\n",
    "my_list_1 =get_n_random_numbers(size)\n",
    "\n",
    "print(\"liste=\",my_list_1)"
   ]
  },
  {
   "cell_type": "code",
   "execution_count": null,
   "metadata": {},
   "outputs": [],
   "source": [
    "my_list_2=buble_sort(my_list_1)"
   ]
  },
  {
   "cell_type": "code",
   "execution_count": null,
   "metadata": {},
   "outputs": [],
   "source": [
    "print(my_list_2)\n",
    "n=len(my_list_2)\n",
    "if n%2==1:\n",
    "    middle=int(n/2)+1\n",
    "    median=my_list_2[middle]\n",
    "    print(median)\n",
    "else:\n",
    "    middle_1=my_list_2[int(n/2)]\n",
    "    middle_2=my_list_2[int(n/2)+1]\n",
    "    median=(middle_1+middle_2)/2\n",
    "    print(median)"
   ]
  },
  {
   "cell_type": "code",
   "execution_count": null,
   "metadata": {},
   "outputs": [],
   "source": []
  },
  {
   "cell_type": "code",
   "execution_count": 1,
   "metadata": {},
   "outputs": [],
   "source": [
    "def my_median(my_list):\n",
    "    my_list_2=buble_sort(my_list)\n",
    "    #print(my_list_2)\n",
    "    n=len(my_list_2)\n",
    "    if n%2==1:\n",
    "        middle=int(n/2)+1\n",
    "        median=(my_list_2)[middle-1]\n",
    "        #print(median)\n",
    "        \n",
    "        \n",
    "    else:\n",
    "        middle_1=int(n/2)+1\n",
    "        middle_2=middle_1+1\n",
    "        median=(my_list_2[middle_1]+my_list_2[middle_2])/2\n",
    "        #print(median)\n",
    "    return median\n",
    "        "
   ]
  },
  {
   "cell_type": "code",
   "execution_count": 23,
   "metadata": {},
   "outputs": [
    {
     "name": "stdout",
     "output_type": "stream",
     "text": [
      "[3, 0, -4, 6, -4, 1, 4, -1]\n"
     ]
    },
    {
     "data": {
      "text/plain": [
       "(-2.0, [-1, 4, 1, -4, 6, -4, 0, 3])"
      ]
     },
     "execution_count": 23,
     "metadata": {},
     "output_type": "execute_result"
    }
   ],
   "source": [
    "my_list_2=get_n_random_numbers(8,-6,6)\n",
    "my_median(my_list_2),my_list_2"
   ]
  },
  {
   "cell_type": "code",
   "execution_count": 25,
   "metadata": {},
   "outputs": [
    {
     "name": "stdout",
     "output_type": "stream",
     "text": [
      "[-4, 3, 5]\n"
     ]
    },
    {
     "data": {
      "text/plain": [
       "(3, [5, 3, -4])"
      ]
     },
     "execution_count": 25,
     "metadata": {},
     "output_type": "execute_result"
    }
   ],
   "source": [
    "my_list_2=get_n_random_numbers(3,-6,6)\n",
    "my_median(my_list_2),my_list_2"
   ]
  },
  {
   "cell_type": "code",
   "execution_count": null,
   "metadata": {},
   "outputs": [],
   "source": []
  }
 ],
 "metadata": {
  "kernelspec": {
   "display_name": "Python 3",
   "language": "python",
   "name": "python3"
  },
  "language_info": {
   "codemirror_mode": {
    "name": "ipython",
    "version": 3
   },
   "file_extension": ".py",
   "mimetype": "text/x-python",
   "name": "python",
   "nbconvert_exporter": "python",
   "pygments_lexer": "ipython3",
   "version": "3.7.6"
  }
 },
 "nbformat": 4,
 "nbformat_minor": 4
}
